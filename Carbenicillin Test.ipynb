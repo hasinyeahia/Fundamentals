{
 "cells": [
  {
   "cell_type": "code",
   "execution_count": 1,
   "metadata": {},
   "outputs": [
    {
     "name": "stdout",
     "output_type": "stream",
     "text": [
      "WARNING:tensorflow:From C:\\Users\\malyn\\Anaconda3\\lib\\site-packages\\tensorflow\\python\\ops\\resource_variable_ops.py:435: colocate_with (from tensorflow.python.framework.ops) is deprecated and will be removed in a future version.\n",
      "Instructions for updating:\n",
      "Colocations handled automatically by placer.\n",
      "WARNING:tensorflow:From C:\\Users\\malyn\\Anaconda3\\lib\\site-packages\\tensorflow\\python\\ops\\math_ops.py:3066: to_int32 (from tensorflow.python.ops.math_ops) is deprecated and will be removed in a future version.\n",
      "Instructions for updating:\n",
      "Use tf.cast instead.\n",
      "\n",
      "Carbenicillin prediction accuracy: 185/251 = 0.7370517928286853\n",
      "\n",
      "Results available in \"results\" folder as \"CarbResults.csv\"\n"
     ]
    }
   ],
   "source": [
    "import cv2\n",
    "import tensorflow as tf\n",
    "import os\n",
    "import csv\n",
    "\n",
    "CATEGORIES = [\"carbRes\", \"carbNotRes\"]\n",
    "\n",
    "\n",
    "def prepare(filepath):\n",
    "    IMG_SIZE = 50  # 50 in txt-based\n",
    "    img_array = cv2.imread(filepath, cv2.IMREAD_GRAYSCALE)\n",
    "    new_array = cv2.resize(img_array, (IMG_SIZE, IMG_SIZE))\n",
    "    return new_array.reshape(-1, IMG_SIZE, IMG_SIZE, 1)\n",
    "\n",
    "\n",
    "model = tf.keras.models.load_model(\"models/64x3-CNN.model\")\n",
    "\n",
    "results = []\n",
    "pos = 0\n",
    "neg = 0\n",
    "\n",
    "for img in os.listdir('Data Images/carbNotRes'):\n",
    "    prediction = model.predict([prepare('Data Images/carbNotRes/' + img)])\n",
    "    if(CATEGORIES[int(prediction[0][0])] == \"carbNotRes\"):\n",
    "        pos += 1\n",
    "    else:\n",
    "        neg += 1\n",
    "    \n",
    "    results.append([img, CATEGORIES[int(prediction[0][0])]])\n",
    "    \n",
    "for img in os.listdir('Data Images/carbRes'):\n",
    "    prediction = model.predict([prepare('Data Images/carbRes/' + img)])\n",
    "    if(CATEGORIES[int(prediction[0][0])] == \"carbRes\"):\n",
    "        pos += 1\n",
    "    else:\n",
    "        neg += 1\n",
    "        \n",
    "    results.append([img, CATEGORIES[int(prediction[0][0])]])\n",
    "        \n",
    "print(\"\\nCarbenicillin prediction accuracy: \" + str(pos) + \"/\" + str(neg + pos) + \" = \" + str((pos / (neg + pos))))\n",
    "\n",
    "results.sort()\n",
    "\n",
    "with open(\"results/CarbResults.csv\", \"w\") as f:\n",
    "    writer = csv.writer(f)\n",
    "    writer.writerows(results)\n",
    "    \n",
    "print(\"\\nResults available in \\\"results\\\" folder as \\\"CarbResults.csv\\\"\")"
   ]
  },
  {
   "cell_type": "code",
   "execution_count": null,
   "metadata": {},
   "outputs": [],
   "source": []
  }
 ],
 "metadata": {
  "kernelspec": {
   "display_name": "Python 3",
   "language": "python",
   "name": "python3"
  },
  "language_info": {
   "codemirror_mode": {
    "name": "ipython",
    "version": 3
   },
   "file_extension": ".py",
   "mimetype": "text/x-python",
   "name": "python",
   "nbconvert_exporter": "python",
   "pygments_lexer": "ipython3",
   "version": "3.7.3"
  }
 },
 "nbformat": 4,
 "nbformat_minor": 2
}
