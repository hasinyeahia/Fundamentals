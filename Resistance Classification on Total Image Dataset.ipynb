{
 "cells": [
  {
   "cell_type": "code",
   "execution_count": 1,
   "metadata": {},
   "outputs": [
    {
     "name": "stdout",
     "output_type": "stream",
     "text": [
      "WARNING:tensorflow:From C:\\Users\\malyn\\Anaconda3\\lib\\site-packages\\tensorflow\\python\\ops\\resource_variable_ops.py:435: colocate_with (from tensorflow.python.framework.ops) is deprecated and will be removed in a future version.\n",
      "Instructions for updating:\n",
      "Colocations handled automatically by placer.\n",
      "WARNING:tensorflow:From C:\\Users\\malyn\\Anaconda3\\lib\\site-packages\\tensorflow\\python\\ops\\math_ops.py:3066: to_int32 (from tensorflow.python.ops.math_ops) is deprecated and will be removed in a future version.\n",
      "Instructions for updating:\n",
      "Use tf.cast instead.\n",
      "[['PIL-109_3dayLBCR-1.jpg', 'tobyNotRes', 'carbRes'], ['PIL-109_3dayLBCR-2.jpg', 'tobyNotRes', 'carbRes'], ['PIL-109_3dayLBCR-3.jpg', 'tobyNotRes', 'carbRes'], ['PIL-109_3dayLBCR-4.jpg', 'tobyNotRes', 'carbRes'], ['PIL-113_3dayLBCR-1.jpg', 'tobyRes', 'carbNotRes'], ['PIL-113_3dayLBCR-2.jpg', 'tobyNotRes', 'carbNotRes'], ['PIL-113_3dayLBCR-3.jpg', 'tobyRes', 'carbRes'], ['PIL-113_3dayLBCR-4.jpg', 'tobyRes', 'carbRes'], ['PIL-120_3dayLBCR-1.jpg', 'tobyRes', 'carbRes'], ['PIL-120_3dayLBCR-2.jpg', 'tobyRes', 'carbNotRes'], ['PIL-120_3dayLBCR-3.jpg', 'tobyRes', 'carbNotRes'], ['PIL-120_3dayLBCR-4.jpg', 'tobyNotRes', 'carbNotRes'], ['PIL-122_3dayLBCR-1.jpg', 'tobyRes', 'carbRes'], ['PIL-122_3dayLBCR-2.jpg', 'tobyNotRes', 'carbRes'], ['PIL-122_3dayLBCR-3.jpg', 'tobyNotRes', 'carbRes'], ['PIL-124_3dayLBCR-1.jpg', 'tobyNotRes', 'carbRes'], ['PIL-124_3dayLBCR-2.jpg', 'tobyNotRes', 'carbRes'], ['PIL-124_3dayLBCR-3.jpg', 'tobyRes', 'carbRes'], ['PIL-125_3dayLBCR-1.jpg', 'tobyNotRes', 'carbRes'], ['PIL-125_3dayLBCR-2.jpg', 'tobyNotRes', 'carbRes'], ['PIL-125_3dayLBCR-3.jpg', 'tobyRes', 'carbRes'], ['PIL-125_3dayLBCR-4.jpg', 'tobyNotRes', 'carbRes'], ['PIL-126_3dayLBCR-1.jpg', 'tobyRes', 'carbNotRes'], ['PIL-126_3dayLBCR-2.jpg', 'tobyRes', 'carbRes'], ['PIL-126_3dayLBCR-3.jpg', 'tobyNotRes', 'carbRes'], ['PIL-126_3dayLBCR-4.jpg', 'tobyNotRes', 'carbRes'], ['PIL-127_3dayLBCR-1.jpg', 'tobyRes', 'carbNotRes'], ['PIL-127_3dayLBCR-2.jpg', 'tobyRes', 'carbNotRes'], ['PIL-127_3dayLBCR-3.jpg', 'tobyNotRes', 'carbNotRes'], ['PIL-127_3dayLBCR-4.jpg', 'tobyRes', 'carbNotRes'], ['PIL-128_3dayLBCR-1.jpg', 'tobyNotRes', 'carbNotRes'], ['PIL-128_3dayLBCR-2.jpg', 'tobyNotRes', 'carbNotRes'], ['PIL-128_3dayLBCR-3.jpg', 'tobyNotRes', 'carbNotRes'], ['PIL-128_3dayLBCR-4.jpg', 'tobyNotRes', 'carbNotRes'], ['PIL-129_3dayLBCR-1.jpg', 'tobyNotRes', 'carbNotRes'], ['PIL-129_3dayLBCR-2.jpg', 'tobyNotRes', 'carbNotRes'], ['PIL-129_3dayLBCR-3.jpg', 'tobyNotRes', 'carbRes'], ['PIL-129_3dayLBCR-4.jpg', 'tobyNotRes', 'carbNotRes'], ['PIL-132_3dayLBCR-1.jpg', 'tobyNotRes', 'carbNotRes'], ['PIL-132_3dayLBCR-2.jpg', 'tobyRes', 'carbNotRes'], ['PIL-132_3dayLBCR-3.jpg', 'tobyRes', 'carbNotRes'], ['PIL-133_3dayLBCR-1.jpg', 'tobyRes', 'carbNotRes'], ['PIL-133_3dayLBCR-2.jpg', 'tobyNotRes', 'carbNotRes'], ['PIL-133_3dayLBCR-3.jpg', 'tobyNotRes', 'carbRes'], ['PIL-133_3dayLBCR-4.jpg', 'tobyNotRes', 'carbRes'], ['PIL-134_3dayLBCR-1.jpg', 'tobyNotRes', 'carbRes'], ['PIL-134_3dayLBCR-2.jpg', 'tobyNotRes', 'carbRes'], ['PIL-134_3dayLBCR-3.jpg', 'tobyNotRes', 'carbRes'], ['PIL-134_3dayLBCR-4.jpg', 'tobyNotRes', 'carbRes'], ['PIL-13_3dayLBCR-1.jpg', 'tobyNotRes', 'carbRes'], ['PIL-13_3dayLBCR-2.jpg', 'tobyNotRes', 'carbRes'], ['PIL-13_3dayLBCR-3.jpg', 'tobyNotRes', 'carbRes'], ['PIL-148_3dayLBCR-1.jpg', 'tobyNotRes', 'carbRes'], ['PIL-148_3dayLBCR-2.jpg', 'tobyNotRes', 'carbRes'], ['PIL-148_3dayLBCR-3.jpg', 'tobyNotRes', 'carbRes'], ['PIL-148_3dayLBCR-4.jpg', 'tobyNotRes', 'carbRes'], ['PIL-149_3dayLBCR-1.jpg', 'tobyNotRes', 'carbNotRes'], ['PIL-149_3dayLBCR-2.jpg', 'tobyNotRes', 'carbNotRes'], ['PIL-149_3dayLBCR-3.jpg', 'tobyNotRes', 'carbNotRes'], ['PIL-149_3dayLBCR-4.jpg', 'tobyNotRes', 'carbNotRes'], ['PIL-14_3dayLBCR-1.jpg', 'tobyNotRes', 'carbRes'], ['PIL-14_3dayLBCR-2.jpg', 'tobyNotRes', 'carbRes'], ['PIL-14_3dayLBCR-3.jpg', 'tobyNotRes', 'carbRes'], ['PIL-14_3dayLBCR-4.jpg', 'tobyNotRes', 'carbRes'], ['PIL-158_3dayLBCR-1.jpg', 'tobyRes', 'carbNotRes'], ['PIL-158_3dayLBCR-2.jpg', 'tobyRes', 'carbNotRes'], ['PIL-158_3dayLBCR-3.jpg', 'tobyRes', 'carbNotRes'], ['PIL-158_3dayLBCR-4.jpg', 'tobyRes', 'carbNotRes'], ['PIL-159_3dayLBCR-1.jpg', 'tobyNotRes', 'carbNotRes'], ['PIL-159_3dayLBCR-2.jpg', 'tobyRes', 'carbNotRes'], ['PIL-159_3dayLBCR-3.jpg', 'tobyRes', 'carbNotRes'], ['PIL-159_3dayLBCR-4.jpg', 'tobyRes', 'carbNotRes'], ['PIL-15_3dayLBCR-1.jpg', 'tobyRes', 'carbNotRes'], ['PIL-15_3dayLBCR-2.jpg', 'tobyNotRes', 'carbRes'], ['PIL-15_3dayLBCR-3.jpg', 'tobyNotRes', 'carbRes'], ['PIL-15_3dayLBCR-4.jpg', 'tobyNotRes', 'carbRes'], ['PIL-169_3dayLBCR-1.jpg', 'tobyRes', 'carbNotRes'], ['PIL-169_3dayLBCR-2.jpg', 'tobyRes', 'carbNotRes'], ['PIL-169_3dayLBCR-3.jpg', 'tobyRes', 'carbNotRes'], ['PIL-169_3dayLBCR-4.jpg', 'tobyNotRes', 'carbNotRes'], ['PIL-174_3dayLBCR-1.jpg', 'tobyRes', 'carbNotRes'], ['PIL-174_3dayLBCR-2.jpg', 'tobyNotRes', 'carbNotRes'], ['PIL-174_3dayLBCR-3.jpg', 'tobyNotRes', 'carbNotRes'], ['PIL-174_3dayLBCR-4.jpg', 'tobyRes', 'carbNotRes'], ['PIL-175_3dayLBCR-1.jpg', 'tobyNotRes', 'carbNotRes'], ['PIL-175_3dayLBCR-2.jpg', 'tobyRes', 'carbNotRes'], ['PIL-175_3dayLBCR-3.jpg', 'tobyRes', 'carbNotRes'], ['PIL-175_3dayLBCR-4.jpg', 'tobyRes', 'carbNotRes'], ['PIL-1_3dayLBCR-1.jpg', 'tobyNotRes', 'carbRes'], ['PIL-1_3dayLBCR-2.jpg', 'tobyNotRes', 'carbRes'], ['PIL-1_3dayLBCR-3.jpg', 'tobyNotRes', 'carbRes'], ['PIL-1_3dayLBCR-4.jpg', 'tobyNotRes', 'carbRes'], ['PIL-210_3dayLBCR-1.jpg', 'tobyNotRes', 'carbNotRes'], ['PIL-210_3dayLBCR-2.jpg', 'tobyRes', 'carbNotRes'], ['PIL-210_3dayLBCR-3.jpg', 'tobyNotRes', 'carbNotRes'], ['PIL-226_3dayLBCR-1.jpg', 'tobyNotRes', 'carbNotRes'], ['PIL-226_3dayLBCR-2.jpg', 'tobyRes', 'carbNotRes'], ['PIL-226_3dayLBCR-3.jpg', 'tobyRes', 'carbNotRes'], ['PIL-226_3dayLBCR-4.jpg', 'tobyRes', 'carbNotRes'], ['PIL-230_3dayLBCR-1.jpg', 'tobyRes', 'carbNotRes'], ['PIL-230_3dayLBCR-2.jpg', 'tobyRes', 'carbNotRes'], ['PIL-230_3dayLBCR-3.jpg', 'tobyRes', 'carbNotRes'], ['PIL-230_3dayLBCR-4.jpg', 'tobyRes', 'carbNotRes'], ['PIL-231_3dayLBCR-1.jpg', 'tobyNotRes', 'carbNotRes'], ['PIL-231_3dayLBCR-2.jpg', 'tobyNotRes', 'carbNotRes'], ['PIL-231_3dayLBCR-3.jpg', 'tobyRes', 'carbNotRes'], ['PIL-231_3dayLBCR-4.jpg', 'tobyNotRes', 'carbNotRes'], ['PIL-232_3dayLBCR-1.jpg', 'tobyRes', 'carbNotRes'], ['PIL-232_3dayLBCR-2.jpg', 'tobyRes', 'carbNotRes'], ['PIL-232_3dayLBCR-3.jpg', 'tobyRes', 'carbNotRes'], ['PIL-232_3dayLBCR-4.jpg', 'tobyRes', 'carbNotRes'], ['PIL-237_3dayLBCR-1.jpg', 'tobyRes', 'carbNotRes'], ['PIL-237_3dayLBCR-2.jpg', 'tobyRes', 'carbNotRes'], ['PIL-237_3dayLBCR-3.jpg', 'tobyRes', 'carbNotRes'], ['PIL-237_3dayLBCR-4.jpg', 'tobyNotRes', 'carbNotRes'], ['PIL-23_3dayLBCR-1.jpg', 'tobyNotRes', 'carbNotRes'], ['PIL-23_3dayLBCR-2.jpg', 'tobyNotRes', 'carbNotRes'], ['PIL-23_3dayLBCR-3.jpg', 'tobyNotRes', 'carbNotRes'], ['PIL-23_3dayLBCR-4.jpg', 'tobyNotRes', 'carbNotRes'], ['PIL-259_3dayLBCR-1.jpg', 'tobyNotRes', 'carbNotRes'], ['PIL-259_3dayLBCR-2.jpg', 'tobyNotRes', 'carbNotRes'], ['PIL-259_3dayLBCR-3.jpg', 'tobyNotRes', 'carbNotRes'], ['PIL-259_3dayLBCR-4.jpg', 'tobyNotRes', 'carbNotRes'], ['PIL-25_3dayLBCR-1.jpg', 'tobyNotRes', 'carbNotRes'], ['PIL-25_3dayLBCR-2.jpg', 'tobyNotRes', 'carbNotRes'], ['PIL-25_3dayLBCR-3.jpg', 'tobyNotRes', 'carbNotRes'], ['PIL-25_3dayLBCR-4.jpg', 'tobyNotRes', 'carbNotRes'], ['PIL-26_3dayLBCR-1.jpg', 'tobyNotRes', 'carbRes'], ['PIL-26_3dayLBCR-2.jpg', 'tobyNotRes', 'carbRes'], ['PIL-26_3dayLBCR-3.jpg', 'tobyNotRes', 'carbRes'], ['PIL-26_3dayLBCR-4.jpg', 'tobyNotRes', 'carbRes'], ['PIL-276_3dayLBCR-1.jpg', 'tobyNotRes', 'carbNotRes'], ['PIL-276_3dayLBCR-2.jpg', 'tobyNotRes', 'carbNotRes'], ['PIL-276_3dayLBCR-3.jpg', 'tobyNotRes', 'carbNotRes'], ['PIL-276_3dayLBCR-4.jpg', 'tobyNotRes', 'carbNotRes'], ['PIL-293_3dayLBCR-1.jpg', 'tobyRes', 'carbNotRes'], ['PIL-293_3dayLBCR-2.jpg', 'tobyRes', 'carbNotRes'], ['PIL-293_3dayLBCR-3.jpg', 'tobyNotRes', 'carbRes'], ['PIL-293_3dayLBCR-4.jpg', 'tobyRes', 'carbNotRes'], ['PIL-298_3dayLBCR-1.jpg', 'tobyRes', 'carbNotRes'], ['PIL-298_3dayLBCR-2.jpg', 'tobyNotRes', 'carbNotRes'], ['PIL-298_3dayLBCR-3.jpg', 'tobyNotRes', 'carbNotRes'], ['PIL-298_3dayLBCR-4.jpg', 'tobyRes', 'carbNotRes'], ['PIL-29_3dayLBCR-1.jpg', 'tobyNotRes', 'carbNotRes'], ['PIL-29_3dayLBCR-2.jpg', 'tobyNotRes', 'carbNotRes'], ['PIL-29_3dayLBCR-3.jpg', 'tobyNotRes', 'carbNotRes'], ['PIL-29_3dayLBCR-4.jpg', 'tobyNotRes', 'carbNotRes'], ['PIL-2_3dayLBCR-1.jpg', 'tobyNotRes', 'carbRes'], ['PIL-2_3dayLBCR-2.jpg', 'tobyNotRes', 'carbRes'], ['PIL-2_3dayLBCR-3.jpg', 'tobyNotRes', 'carbRes'], ['PIL-2_3dayLBCR-4.jpg', 'tobyNotRes', 'carbRes'], ['PIL-304_3dayLBCR-1.jpg', 'tobyRes', 'carbNotRes'], ['PIL-304_3dayLBCR-2.jpg', 'tobyRes', 'carbNotRes'], ['PIL-304_3dayLBCR-3.jpg', 'tobyRes', 'carbNotRes'], ['PIL-304_3dayLBCR-4.jpg', 'tobyRes', 'carbNotRes'], ['PIL-313_3dayLBCR-1.jpg', 'tobyNotRes', 'carbNotRes'], ['PIL-313_3dayLBCR-2.jpg', 'tobyNotRes', 'carbNotRes'], ['PIL-313_3dayLBCR-3.jpg', 'tobyNotRes', 'carbNotRes'], ['PIL-313_3dayLBCR-4.jpg', 'tobyNotRes', 'carbNotRes'], ['PIL-317_3dayLBCR-1.jpg', 'tobyNotRes', 'carbNotRes'], ['PIL-317_3dayLBCR-2.jpg', 'tobyNotRes', 'carbRes'], ['PIL-317_3dayLBCR-3.jpg', 'tobyNotRes', 'carbNotRes'], ['PIL-317_3dayLBCR-4.jpg', 'tobyNotRes', 'carbNotRes'], ['PIL-329_3dayLBCR-1.jpg', 'tobyRes', 'carbNotRes'], ['PIL-329_3dayLBCR-2.jpg', 'tobyNotRes', 'carbNotRes'], ['PIL-32_3dayLBCR-1.jpg', 'tobyNotRes', 'carbRes'], ['PIL-32_3dayLBCR-2.jpg', 'tobyNotRes', 'carbRes'], ['PIL-32_3dayLBCR-3.jpg', 'tobyNotRes', 'carbRes'], ['PIL-32_3dayLBCR-4.jpg', 'tobyNotRes', 'carbNotRes'], ['PIL-331_3dayLBCR-1.jpg', 'tobyRes', 'carbNotRes'], ['PIL-331_3dayLBCR-2.jpg', 'tobyNotRes', 'carbNotRes'], ['PIL-331_3dayLBCR-3.jpg', 'tobyRes', 'carbNotRes'], ['PIL-331_3dayLBCR-4.jpg', 'tobyRes', 'carbNotRes'], ['PIL-333_3dayLBCR-1.jpg', 'tobyRes', 'carbNotRes'], ['PIL-333_3dayLBCR-2.jpg', 'tobyRes', 'carbNotRes'], ['PIL-333_3dayLBCR-3.jpg', 'tobyRes', 'carbNotRes'], ['PIL-333_3dayLBCR-4.jpg', 'tobyRes', 'carbNotRes'], ['PIL-334_3dayLBCR-1.jpg', 'tobyNotRes', 'carbNotRes'], ['PIL-334_3dayLBCR-2.jpg', 'tobyRes', 'carbNotRes'], ['PIL-334_3dayLBCR-3.jpg', 'tobyRes', 'carbNotRes'], ['PIL-334_3dayLBCR-4.jpg', 'tobyRes', 'carbNotRes'], ['PIL-337_3dayLBCR-1.jpg', 'tobyRes', 'carbNotRes'], ['PIL-337_3dayLBCR-2.jpg', 'tobyRes', 'carbNotRes'], ['PIL-337_3dayLBCR-3.jpg', 'tobyRes', 'carbNotRes'], ['PIL-337_3dayLBCR-4.jpg', 'tobyRes', 'carbNotRes'], ['PIL-338_3dayLBCR-1.jpg', 'tobyRes', 'carbNotRes'], ['PIL-338_3dayLBCR-2.jpg', 'tobyRes', 'carbNotRes'], ['PIL-338_3dayLBCR-3.jpg', 'tobyRes', 'carbNotRes'], ['PIL-338_3dayLBCR-4.jpg', 'tobyRes', 'carbNotRes'], ['PIL-33_3dayLBCR-1.jpg', 'tobyNotRes', 'carbNotRes'], ['PIL-33_3dayLBCR-2.jpg', 'tobyNotRes', 'carbNotRes'], ['PIL-33_3dayLBCR-3.jpg', 'tobyNotRes', 'carbRes'], ['PIL-33_3dayLBCR-4.jpg', 'tobyNotRes', 'carbNotRes'], ['PIL-340_3dayLBCR-1.jpg', 'tobyRes', 'carbNotRes'], ['PIL-340_3dayLBCR-2.jpg', 'tobyRes', 'carbNotRes'], ['PIL-340_3dayLBCR-3.jpg', 'tobyRes', 'carbNotRes'], ['PIL-340_3dayLBCR-4.jpg', 'tobyRes', 'carbNotRes'], ['PIL-344_3dayLBCR-1.jpg', 'tobyRes', 'carbNotRes'], ['PIL-344_3dayLBCR-2.jpg', 'tobyRes', 'carbNotRes'], ['PIL-344_3dayLBCR-3.jpg', 'tobyRes', 'carbNotRes'], ['PIL-344_3dayLBCR-4.jpg', 'tobyRes', 'carbNotRes'], ['PIL-38_3dayLBCR-1.jpg', 'tobyNotRes', 'carbNotRes'], ['PIL-38_3dayLBCR-2.jpg', 'tobyNotRes', 'carbNotRes'], ['PIL-38_3dayLBCR-3.jpg', 'tobyNotRes', 'carbNotRes'], ['PIL-38_3dayLBCR-4.jpg', 'tobyNotRes', 'carbNotRes'], ['PIL-3_3dayLBCR-1.jpg', 'tobyNotRes', 'carbNotRes'], ['PIL-3_3dayLBCR-2.jpg', 'tobyNotRes', 'carbNotRes'], ['PIL-3_3dayLBCR-3.jpg', 'tobyNotRes', 'carbRes'], ['PIL-3_3dayLBCR-4.jpg', 'tobyNotRes', 'carbNotRes'], ['PIL-41_3dayLBCR-1.jpg', 'tobyNotRes', 'carbRes'], ['PIL-41_3dayLBCR-2.jpg', 'tobyNotRes', 'carbNotRes'], ['PIL-41_3dayLBCR-3.jpg', 'tobyNotRes', 'carbRes'], ['PIL-41_3dayLBCR-4.jpg', 'tobyNotRes', 'carbNotRes'], ['PIL-45_3dayLBCR-1.jpg', 'tobyNotRes', 'carbRes'], ['PIL-45_3dayLBCR-2.jpg', 'tobyNotRes', 'carbNotRes'], ['PIL-45_3dayLBCR-3.jpg', 'tobyNotRes', 'carbNotRes'], ['PIL-45_3dayLBCR-4.jpg', 'tobyNotRes', 'carbNotRes'], ['PIL-47_3dayLBCR-1.jpg', 'tobyNotRes', 'carbNotRes'], ['PIL-47_3dayLBCR-2.jpg', 'tobyNotRes', 'carbNotRes'], ['PIL-47_3dayLBCR-3.jpg', 'tobyNotRes', 'carbNotRes'], ['PIL-50_3dayLBCR-1.jpg', 'tobyNotRes', 'carbNotRes'], ['PIL-50_3dayLBCR-2.jpg', 'tobyNotRes', 'carbRes'], ['PIL-50_3dayLBCR-3.jpg', 'tobyNotRes', 'carbNotRes'], ['PIL-50_3dayLBCR-4.jpg', 'tobyNotRes', 'carbRes'], ['PIL-52_3dayLBCR-1.jpg', 'tobyNotRes', 'carbNotRes'], ['PIL-52_3dayLBCR-2.jpg', 'tobyNotRes', 'carbNotRes'], ['PIL-52_3dayLBCR-3.jpg', 'tobyNotRes', 'carbNotRes'], ['PIL-52_3dayLBCR-4.jpg', 'tobyNotRes', 'carbNotRes'], ['PIL-55a_3dayLBCR-1.jpg', 'tobyNotRes', 'carbNotRes'], ['PIL-55a_3dayLBCR-2.jpg', 'tobyNotRes', 'carbNotRes'], ['PIL-55a_3dayLBCR-3.jpg', 'tobyNotRes', 'carbNotRes'], ['PIL-55a_3dayLBCR-4.jpg', 'tobyNotRes', 'carbRes'], ['PIL-5_3dayLBCR-1.jpg', 'tobyNotRes', 'carbRes'], ['PIL-5_3dayLBCR-2.jpg', 'tobyNotRes', 'carbRes'], ['PIL-5_3dayLBCR-3.jpg', 'tobyNotRes', 'carbNotRes'], ['PIL-5_3dayLBCR-4.jpg', 'tobyNotRes', 'carbNotRes'], ['PIL-69_3dayLBCR-1.jpg', 'tobyNotRes', 'carbNotRes'], ['PIL-69_3dayLBCR-2.jpg', 'tobyRes', 'carbNotRes'], ['PIL-69_3dayLBCR-3.jpg', 'tobyRes', 'carbNotRes'], ['PIL-69_3dayLBCR-4.jpg', 'tobyNotRes', 'carbNotRes'], ['PIL-73_3dayLBCR-1.jpg', 'tobyRes', 'carbNotRes'], ['PIL-73_3dayLBCR-2.jpg', 'tobyRes', 'carbNotRes'], ['PIL-73_3dayLBCR-3.jpg', 'tobyNotRes', 'carbNotRes'], ['PIL-73_3dayLBCR-4.jpg', 'tobyNotRes', 'carbRes'], ['PIL-78_3dayLBCR-1.jpg', 'tobyNotRes', 'carbRes'], ['PIL-78_3dayLBCR-2.jpg', 'tobyNotRes', 'carbRes'], ['PIL-78_3dayLBCR-3.jpg', 'tobyNotRes', 'carbRes'], ['PIL-84_3dayLBCR-1.jpg', 'tobyNotRes', 'carbNotRes'], ['PIL-84_3dayLBCR-2.jpg', 'tobyNotRes', 'carbNotRes'], ['PIL-84_3dayLBCR-3.jpg', 'tobyNotRes', 'carbNotRes'], ['PIL-84_3dayLBCR-4.jpg', 'tobyNotRes', 'carbNotRes'], ['PIL-86_3dayLBCR-1.jpg', 'tobyNotRes', 'carbNotRes'], ['PIL-86_3dayLBCR-2.jpg', 'tobyNotRes', 'carbNotRes'], ['PIL-86_3dayLBCR-3.jpg', 'tobyRes', 'carbNotRes'], ['PIL-90_3dayLBCR-1.jpg', 'tobyRes', 'carbNotRes'], ['PIL-90_3dayLBCR-2.jpg', 'tobyRes', 'carbNotRes'], ['PIL-90_3dayLBCR-3.jpg', 'tobyRes', 'carbNotRes'], ['PIL-90_3dayLBCR-4.jpg', 'tobyRes', 'carbNotRes'], ['PIL-94_3dayLBCR-1.jpg', 'tobyNotRes', 'carbNotRes'], ['PIL-94_3dayLBCR-2.jpg', 'tobyNotRes', 'carbNotRes'], ['PIL-94_3dayLBCR-3.jpg', 'tobyNotRes', 'carbNotRes'], ['PIL-94_3dayLBCR-4.jpg', 'tobyNotRes', 'carbNotRes'], ['PIL-9_3dayLBCR-1.jpg', 'tobyNotRes', 'carbRes'], ['PIL-9_3dayLBCR-2.jpg', 'tobyNotRes', 'carbNotRes'], ['PIL-9_3dayLBCR-3.jpg', 'tobyNotRes', 'carbNotRes'], ['PIL-9_3dayLBCR-4.jpg', 'tobyNotRes', 'carbRes']]\n"
     ]
    }
   ],
   "source": [
    "import cv2\n",
    "import tensorflow as tf\n",
    "import os\n",
    "import csv\n",
    "\n",
    "\n",
    "CATEGORIES1 = [\"tobyRes\", \"tobyNotRes\"]\n",
    "\n",
    "CATEGORIES2 = [\"carbRes\", \"carbNotRes\"]\n",
    "\n",
    "\n",
    "def prepare(filepath):\n",
    "    IMG_SIZE = 50  # 50 in txt-based\n",
    "    img_array = cv2.imread(filepath, cv2.IMREAD_GRAYSCALE)\n",
    "    new_array = cv2.resize(img_array, (IMG_SIZE, IMG_SIZE))\n",
    "    return new_array.reshape(-1, IMG_SIZE, IMG_SIZE, 1)\n",
    "\n",
    "\n",
    "model1 = tf.keras.models.load_model(\"models/64x3-CNNtoby.model\")\n",
    "\n",
    "model2 = tf.keras.models.load_model(\"models/64x3-CNN.model\")\n",
    "\n",
    "results = []\n",
    "\n",
    "for img in os.listdir('testImages/Bacteria'):\n",
    "    prediction1 = model1.predict([prepare('testImages/Bacteria/' + img)])\n",
    "    prediction2 = model2.predict([prepare('testImages/Bacteria/' + img)])\n",
    "    \n",
    "    results.append([img, CATEGORIES1[int(prediction1[0][0])],CATEGORIES2[int(prediction2[0][0])]])\n",
    "    \n",
    "results.sort()\n",
    "\n",
    "print(str(results))\n",
    "\n",
    "with open(\"results/TotalResults.csv\", \"w\") as f:\n",
    "    writer = csv.writer(f)\n",
    "    writer.writerows(results)"
   ]
  },
  {
   "cell_type": "code",
   "execution_count": null,
   "metadata": {},
   "outputs": [],
   "source": []
  }
 ],
 "metadata": {
  "kernelspec": {
   "display_name": "Python 3",
   "language": "python",
   "name": "python3"
  },
  "language_info": {
   "codemirror_mode": {
    "name": "ipython",
    "version": 3
   },
   "file_extension": ".py",
   "mimetype": "text/x-python",
   "name": "python",
   "nbconvert_exporter": "python",
   "pygments_lexer": "ipython3",
   "version": "3.7.3"
  }
 },
 "nbformat": 4,
 "nbformat_minor": 2
}
